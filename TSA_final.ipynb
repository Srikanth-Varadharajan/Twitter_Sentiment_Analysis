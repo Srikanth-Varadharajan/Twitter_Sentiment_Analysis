{
 "cells": [
  {
   "cell_type": "code",
   "execution_count": 1,
   "id": "b170db8d",
   "metadata": {},
   "outputs": [],
   "source": [
    "import pandas as pd\n",
    "import re\n",
    "import nltk\n",
    "from nltk.corpus import stopwords\n",
    "from sklearn.model_selection import train_test_split\n",
    "from sklearn.feature_extraction.text import TfidfVectorizer\n",
    "from sklearn.linear_model import LogisticRegression\n",
    "from sklearn.pipeline import Pipeline\n",
    "from sklearn.metrics import confusion_matrix, accuracy_score, precision_score, recall_score"
   ]
  },
  {
   "cell_type": "code",
   "execution_count": 2,
   "id": "5a6e28bb",
   "metadata": {},
   "outputs": [],
   "source": [
    "# Load the dataset\n",
    "df = pd.read_csv(r\"C:\\Users\\srika\\Downloads\\twitter_Sentimental_Analysis.csv\")"
   ]
  },
  {
   "cell_type": "code",
   "execution_count": 3,
   "id": "e164ae48",
   "metadata": {},
   "outputs": [
    {
     "name": "stdout",
     "output_type": "stream",
     "text": [
      "(1048575, 6)\n",
      "<class 'pandas.core.frame.DataFrame'>\n",
      "RangeIndex: 1048575 entries, 0 to 1048574\n",
      "Data columns (total 6 columns):\n",
      " #   Column    Non-Null Count    Dtype \n",
      "---  ------    --------------    ----- \n",
      " 0   target    1048575 non-null  int64 \n",
      " 1   ids       1048575 non-null  int64 \n",
      " 2   date      1048575 non-null  object\n",
      " 3   flags     1048575 non-null  object\n",
      " 4   user      1048575 non-null  object\n",
      " 5   comments  1048575 non-null  object\n",
      "dtypes: int64(2), object(4)\n",
      "memory usage: 48.0+ MB\n",
      "None\n",
      "target      0\n",
      "ids         0\n",
      "date        0\n",
      "flags       0\n",
      "user        0\n",
      "comments    0\n",
      "dtype: int64\n"
     ]
    }
   ],
   "source": [
    "# Data Exploration\n",
    "print(df.shape)\n",
    "print(df.info())\n",
    "print(df.isnull().sum())"
   ]
  },
  {
   "cell_type": "code",
   "execution_count": 4,
   "id": "d2a53d3b",
   "metadata": {},
   "outputs": [
    {
     "data": {
      "text/html": [
       "<div>\n",
       "<style scoped>\n",
       "    .dataframe tbody tr th:only-of-type {\n",
       "        vertical-align: middle;\n",
       "    }\n",
       "\n",
       "    .dataframe tbody tr th {\n",
       "        vertical-align: top;\n",
       "    }\n",
       "\n",
       "    .dataframe thead th {\n",
       "        text-align: right;\n",
       "    }\n",
       "</style>\n",
       "<table border=\"1\" class=\"dataframe\">\n",
       "  <thead>\n",
       "    <tr style=\"text-align: right;\">\n",
       "      <th></th>\n",
       "      <th>target</th>\n",
       "      <th>comments</th>\n",
       "    </tr>\n",
       "  </thead>\n",
       "  <tbody>\n",
       "    <tr>\n",
       "      <th>0</th>\n",
       "      <td>0</td>\n",
       "      <td>@switchfoot http://twitpic.com/2y1zl - Awww, t...</td>\n",
       "    </tr>\n",
       "    <tr>\n",
       "      <th>1</th>\n",
       "      <td>0</td>\n",
       "      <td>is upset that he can't update his Facebook by ...</td>\n",
       "    </tr>\n",
       "    <tr>\n",
       "      <th>2</th>\n",
       "      <td>0</td>\n",
       "      <td>@Kenichan I dived many times for the ball. Man...</td>\n",
       "    </tr>\n",
       "    <tr>\n",
       "      <th>3</th>\n",
       "      <td>0</td>\n",
       "      <td>my whole body feels itchy and like its on fire</td>\n",
       "    </tr>\n",
       "    <tr>\n",
       "      <th>4</th>\n",
       "      <td>0</td>\n",
       "      <td>@nationwideclass no, it's not behaving at all....</td>\n",
       "    </tr>\n",
       "    <tr>\n",
       "      <th>5</th>\n",
       "      <td>0</td>\n",
       "      <td>@Kwesidei not the whole crew</td>\n",
       "    </tr>\n",
       "    <tr>\n",
       "      <th>6</th>\n",
       "      <td>0</td>\n",
       "      <td>Need a hug</td>\n",
       "    </tr>\n",
       "    <tr>\n",
       "      <th>7</th>\n",
       "      <td>0</td>\n",
       "      <td>@LOLTrish hey  long time no see! Yes.. Rains a...</td>\n",
       "    </tr>\n",
       "    <tr>\n",
       "      <th>8</th>\n",
       "      <td>0</td>\n",
       "      <td>@Tatiana_K nope they didn't have it</td>\n",
       "    </tr>\n",
       "    <tr>\n",
       "      <th>9</th>\n",
       "      <td>0</td>\n",
       "      <td>@twittera que me muera ?</td>\n",
       "    </tr>\n",
       "  </tbody>\n",
       "</table>\n",
       "</div>"
      ],
      "text/plain": [
       "   target                                           comments\n",
       "0       0  @switchfoot http://twitpic.com/2y1zl - Awww, t...\n",
       "1       0  is upset that he can't update his Facebook by ...\n",
       "2       0  @Kenichan I dived many times for the ball. Man...\n",
       "3       0    my whole body feels itchy and like its on fire \n",
       "4       0  @nationwideclass no, it's not behaving at all....\n",
       "5       0                      @Kwesidei not the whole crew \n",
       "6       0                                        Need a hug \n",
       "7       0  @LOLTrish hey  long time no see! Yes.. Rains a...\n",
       "8       0               @Tatiana_K nope they didn't have it \n",
       "9       0                          @twittera que me muera ? "
      ]
     },
     "execution_count": 4,
     "metadata": {},
     "output_type": "execute_result"
    }
   ],
   "source": [
    "# Drop unnecessary columns\n",
    "df = df.drop(['ids', 'date', 'flags', 'user'], axis=1)\n",
    "df.head(10)"
   ]
  },
  {
   "cell_type": "code",
   "execution_count": 6,
   "id": "175f795b",
   "metadata": {},
   "outputs": [
    {
     "data": {
      "text/html": [
       "<div>\n",
       "<style scoped>\n",
       "    .dataframe tbody tr th:only-of-type {\n",
       "        vertical-align: middle;\n",
       "    }\n",
       "\n",
       "    .dataframe tbody tr th {\n",
       "        vertical-align: top;\n",
       "    }\n",
       "\n",
       "    .dataframe thead th {\n",
       "        text-align: right;\n",
       "    }\n",
       "</style>\n",
       "<table border=\"1\" class=\"dataframe\">\n",
       "  <thead>\n",
       "    <tr style=\"text-align: right;\">\n",
       "      <th></th>\n",
       "      <th>target</th>\n",
       "      <th>comments</th>\n",
       "    </tr>\n",
       "  </thead>\n",
       "  <tbody>\n",
       "    <tr>\n",
       "      <th>0</th>\n",
       "      <td>0</td>\n",
       "      <td>switchfoot   awww thats a bummer  you shoulda ...</td>\n",
       "    </tr>\n",
       "    <tr>\n",
       "      <th>1</th>\n",
       "      <td>0</td>\n",
       "      <td>is upset that he cant update his facebook by t...</td>\n",
       "    </tr>\n",
       "    <tr>\n",
       "      <th>2</th>\n",
       "      <td>0</td>\n",
       "      <td>kenichan i dived many times for the ball manag...</td>\n",
       "    </tr>\n",
       "    <tr>\n",
       "      <th>3</th>\n",
       "      <td>0</td>\n",
       "      <td>my whole body feels itchy and like its on fire</td>\n",
       "    </tr>\n",
       "    <tr>\n",
       "      <th>4</th>\n",
       "      <td>0</td>\n",
       "      <td>nationwideclass no its not behaving at all im ...</td>\n",
       "    </tr>\n",
       "  </tbody>\n",
       "</table>\n",
       "</div>"
      ],
      "text/plain": [
       "   target                                           comments\n",
       "0       0  switchfoot   awww thats a bummer  you shoulda ...\n",
       "1       0  is upset that he cant update his facebook by t...\n",
       "2       0  kenichan i dived many times for the ball manag...\n",
       "3       0    my whole body feels itchy and like its on fire \n",
       "4       0  nationwideclass no its not behaving at all im ..."
      ]
     },
     "execution_count": 6,
     "metadata": {},
     "output_type": "execute_result"
    }
   ],
   "source": [
    "# Text Cleaning\n",
    "def clear_text(comments):\n",
    "    comments = re.sub(r'http\\S+', '', comments)\n",
    "    comments = re.sub(r'[^\\w\\s]', '', comments)\n",
    "    comments = re.sub(r'\\d', '', comments)\n",
    "    comments = comments.lower()\n",
    "    return comments\n",
    "\n",
    "df['comments'] = df['comments'].apply(clear_text)\n",
    "df.head()"
   ]
  },
  {
   "cell_type": "code",
   "execution_count": 9,
   "id": "50250847",
   "metadata": {},
   "outputs": [
    {
     "name": "stderr",
     "output_type": "stream",
     "text": [
      "[nltk_data] Downloading package stopwords to\n",
      "[nltk_data]     C:\\Users\\srika\\AppData\\Roaming\\nltk_data...\n",
      "[nltk_data]   Package stopwords is already up-to-date!\n"
     ]
    },
    {
     "name": "stdout",
     "output_type": "stream",
     "text": [
      "{'ll', 'ourselves', 'myself', 'a', 'until', 'above', 'it', 'off', 'didn', 'while', \"you'll\", 'has', 'shouldn', 'very', 'needn', 'himself', \"aren't\", 'my', 'am', 'into', \"couldn't\", 'here', 'aren', 'just', \"weren't\", 'where', 'don', 'y', 'he', 'weren', 'ain', 'having', \"hasn't\", 'our', 'not', 've', 'was', \"you'd\", \"you've\", 'been', 'how', \"wasn't\", 'you', 'herself', 'whom', \"hadn't\", 'these', 'with', 'again', 'them', 'and', 'some', 'when', 'this', 'shan', 'against', 'hadn', 'i', 'if', 'as', 're', 'being', \"that'll\", 'own', 'hasn', 'to', 'what', 'through', 'mustn', 'then', 'yourself', \"you're\", 'other', 'are', 'before', 'theirs', 'only', 'in', 'is', 'have', 'why', 'they', \"isn't\", 'can', 'between', 'too', 'which', 'or', 'yours', 'by', 'who', 'do', 'yourselves', 'all', 'more', 'couldn', 'down', 'hers', \"don't\", 'his', 'during', 'an', 'their', 'themselves', 'because', 't', 'm', \"she's\", 'will', 'so', 'your', 'itself', 'after', 'there', 'on', 's', 'd', 'those', \"haven't\", 'over', \"mustn't\", 'doesn', 'from', 'were', 'me', 'same', 'won', \"doesn't\", \"should've\", 'should', 'ma', 'than', 'wouldn', 'up', 'she', 'both', 'does', 'isn', \"didn't\", 'her', 'once', 'the', 'nor', 'such', \"needn't\", 'of', 'most', 'that', 'at', 'we', 'for', 'had', 'be', \"wouldn't\", 'under', 'ours', \"won't\", \"it's\", 'few', 'no', 'mightn', 'further', 'below', 'haven', 'each', 'now', \"shouldn't\", 'wasn', \"shan't\", 'its', 'doing', 'about', 'him', 'did', 'o', 'out', \"mightn't\", 'but', 'any'}\n"
     ]
    },
    {
     "data": {
      "text/html": [
       "<div>\n",
       "<style scoped>\n",
       "    .dataframe tbody tr th:only-of-type {\n",
       "        vertical-align: middle;\n",
       "    }\n",
       "\n",
       "    .dataframe tbody tr th {\n",
       "        vertical-align: top;\n",
       "    }\n",
       "\n",
       "    .dataframe thead th {\n",
       "        text-align: right;\n",
       "    }\n",
       "</style>\n",
       "<table border=\"1\" class=\"dataframe\">\n",
       "  <thead>\n",
       "    <tr style=\"text-align: right;\">\n",
       "      <th></th>\n",
       "      <th>target</th>\n",
       "      <th>comments</th>\n",
       "    </tr>\n",
       "  </thead>\n",
       "  <tbody>\n",
       "    <tr>\n",
       "      <th>0</th>\n",
       "      <td>0</td>\n",
       "      <td>switchfoot awww thats bummer shoulda got david...</td>\n",
       "    </tr>\n",
       "    <tr>\n",
       "      <th>1</th>\n",
       "      <td>0</td>\n",
       "      <td>upset cant update facebook texting might cry r...</td>\n",
       "    </tr>\n",
       "    <tr>\n",
       "      <th>2</th>\n",
       "      <td>0</td>\n",
       "      <td>kenichan dived many times ball managed save re...</td>\n",
       "    </tr>\n",
       "    <tr>\n",
       "      <th>3</th>\n",
       "      <td>0</td>\n",
       "      <td>whole body feels itchy like fire</td>\n",
       "    </tr>\n",
       "    <tr>\n",
       "      <th>4</th>\n",
       "      <td>0</td>\n",
       "      <td>nationwideclass behaving im mad cant see</td>\n",
       "    </tr>\n",
       "  </tbody>\n",
       "</table>\n",
       "</div>"
      ],
      "text/plain": [
       "   target                                           comments\n",
       "0       0  switchfoot awww thats bummer shoulda got david...\n",
       "1       0  upset cant update facebook texting might cry r...\n",
       "2       0  kenichan dived many times ball managed save re...\n",
       "3       0                   whole body feels itchy like fire\n",
       "4       0           nationwideclass behaving im mad cant see"
      ]
     },
     "execution_count": 9,
     "metadata": {},
     "output_type": "execute_result"
    }
   ],
   "source": [
    "# Text Preprocessing\n",
    "nltk.download('stopwords')\n",
    "stop_words = set(stopwords.words('english'))\n",
    "\n",
    "def text_preprocessing(comments):\n",
    "    comments = comments.lower()\n",
    "    words = nltk.word_tokenize(comments)\n",
    "    words = [w for w in words if w not in stop_words]\n",
    "    cleaned_text = ' '.join(words)\n",
    "    return cleaned_text\n",
    "\n",
    "df['comments'] = df['comments'].apply(text_preprocessing)\n",
    "print(stop_words)\n",
    "df.head()"
   ]
  },
  {
   "cell_type": "code",
   "execution_count": 10,
   "id": "f38e52b4",
   "metadata": {},
   "outputs": [
    {
     "data": {
      "text/html": [
       "<div>\n",
       "<style scoped>\n",
       "    .dataframe tbody tr th:only-of-type {\n",
       "        vertical-align: middle;\n",
       "    }\n",
       "\n",
       "    .dataframe tbody tr th {\n",
       "        vertical-align: top;\n",
       "    }\n",
       "\n",
       "    .dataframe thead th {\n",
       "        text-align: right;\n",
       "    }\n",
       "</style>\n",
       "<table border=\"1\" class=\"dataframe\">\n",
       "  <thead>\n",
       "    <tr style=\"text-align: right;\">\n",
       "      <th></th>\n",
       "      <th>target</th>\n",
       "      <th>comments</th>\n",
       "      <th>final_target</th>\n",
       "    </tr>\n",
       "  </thead>\n",
       "  <tbody>\n",
       "    <tr>\n",
       "      <th>0</th>\n",
       "      <td>0</td>\n",
       "      <td>switchfoot awww thats bummer shoulda got david...</td>\n",
       "      <td>0</td>\n",
       "    </tr>\n",
       "    <tr>\n",
       "      <th>1</th>\n",
       "      <td>0</td>\n",
       "      <td>upset cant update facebook texting might cry r...</td>\n",
       "      <td>0</td>\n",
       "    </tr>\n",
       "    <tr>\n",
       "      <th>2</th>\n",
       "      <td>0</td>\n",
       "      <td>kenichan dived many times ball managed save re...</td>\n",
       "      <td>0</td>\n",
       "    </tr>\n",
       "    <tr>\n",
       "      <th>3</th>\n",
       "      <td>0</td>\n",
       "      <td>whole body feels itchy like fire</td>\n",
       "      <td>0</td>\n",
       "    </tr>\n",
       "    <tr>\n",
       "      <th>4</th>\n",
       "      <td>0</td>\n",
       "      <td>nationwideclass behaving im mad cant see</td>\n",
       "      <td>0</td>\n",
       "    </tr>\n",
       "  </tbody>\n",
       "</table>\n",
       "</div>"
      ],
      "text/plain": [
       "   target                                           comments  final_target\n",
       "0       0  switchfoot awww thats bummer shoulda got david...             0\n",
       "1       0  upset cant update facebook texting might cry r...             0\n",
       "2       0  kenichan dived many times ball managed save re...             0\n",
       "3       0                   whole body feels itchy like fire             0\n",
       "4       0           nationwideclass behaving im mad cant see             0"
      ]
     },
     "execution_count": 10,
     "metadata": {},
     "output_type": "execute_result"
    }
   ],
   "source": [
    "# Target Mapping\n",
    "df['final_target'] = df['target'].map({0: 0, 4: 2, 'default': 1})\n",
    "df.head()"
   ]
  },
  {
   "cell_type": "code",
   "execution_count": 29,
   "id": "ac60423f",
   "metadata": {},
   "outputs": [
    {
     "data": {
      "image/png": "[encoded data removed]",
      "text/plain": [
       "<Figure size 640x480 with 1 Axes>"
      ]
     },
     "metadata": {},
     "output_type": "display_data"
    }
   ],
   "source": [
    "# Data Visualization\n",
    "import matplotlib.pyplot as plt\n",
    "import seaborn as sns\n",
    "sns.histplot(df['final_target'])\n",
    "plt.title('Histogram final_target column')\n",
    "plt.xlabel('final_target')\n",
    "plt.ylabel('Frequency')\n",
    "plt.show()"
   ]
  },
  {
   "cell_type": "code",
   "execution_count": 15,
   "id": "226e64de",
   "metadata": {},
   "outputs": [
    {
     "name": "stdout",
     "output_type": "stream",
     "text": [
      "x_train :  943717\n",
      "x_test :  104858\n",
      "y_train :  943717\n",
      "y_test :  104858\n"
     ]
    }
   ],
   "source": [
    "# Train-Test Split\n",
    "Independent_variable = df['comments']\n",
    "Dependent_variable = df['final_target']\n",
    "x_train, x_test, y_train, y_test = train_test_split(Independent_variable, Dependent_variable, test_size=0.1, random_state=225)\n",
    "print('x_train : ',len(x_train))\n",
    "print('x_test : ',len(x_test))\n",
    "print('y_train : ',len(y_train))\n",
    "print('y_test : ',len(y_test))"
   ]
  },
  {
   "cell_type": "code",
   "execution_count": 16,
   "id": "63c56a7d",
   "metadata": {},
   "outputs": [
    {
     "data": {
      "text/plain": [
       "Pipeline(steps=[('vectorizer', TfidfVectorizer()),\n",
       "                ('classifier', LogisticRegression(max_iter=200000))])"
      ]
     },
     "execution_count": 16,
     "metadata": {},
     "output_type": "execute_result"
    }
   ],
   "source": [
    "# Model Training\n",
    "tvec = TfidfVectorizer()\n",
    "clf2 = LogisticRegression(solver='lbfgs', max_iter=200000)\n",
    "reg = Pipeline([('vectorizer', tvec), ('classifier', clf2)])\n",
    "reg.fit(x_train, y_train)"
   ]
  },
  {
   "cell_type": "code",
   "execution_count": 17,
   "id": "2523020b",
   "metadata": {},
   "outputs": [
    {
     "name": "stdout",
     "output_type": "stream",
     "text": [
      "Confusion Matrix: [[75290 12272]\n",
      " [ 4566 12730]]\n",
      "Accuracy: 0.8394209311640505\n",
      "Precision: 0.8712907516165557\n",
      "Recall Score: 0.8394209311640505\n"
     ]
    }
   ],
   "source": [
    "# Model Evaluation\n",
    "prediction = reg.predict(x_test)\n",
    "print('Confusion Matrix:', confusion_matrix(prediction, y_test))\n",
    "print('Accuracy:', accuracy_score(prediction, y_test))\n",
    "print('Precision:', precision_score(prediction, y_test, average='weighted'))\n",
    "print('Recall Score:', recall_score(prediction, y_test, average='weighted'))"
   ]
  },
  {
   "cell_type": "code",
   "execution_count": 31,
   "id": "196bdc5a",
   "metadata": {},
   "outputs": [
    {
     "name": "stdout",
     "output_type": "stream",
     "text": [
      "Prediction for sample: [0]\n"
     ]
    }
   ],
   "source": [
    "# Prediction\n",
    "sample = ['bad']\n",
    "result = reg.predict(sample)\n",
    "print('Prediction for sample:', result)"
   ]
  }
 ],
 "metadata": {
  "kernelspec": {
   "display_name": "Python 3 (ipykernel)",
   "language": "python",
   "name": "python3"
  },
  "language_info": {
   "codemirror_mode": {
    "name": "ipython",
    "version": 3
   },
   "file_extension": ".py",
   "mimetype": "text/x-python",
   "name": "python",
   "nbconvert_exporter": "python",
   "pygments_lexer": "ipython3",
   "version": "3.9.13"
  }
 },
 "nbformat": 4,
 "nbformat_minor": 5
}
